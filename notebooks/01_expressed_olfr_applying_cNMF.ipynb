{
 "cells": [
  {
   "cell_type": "markdown",
   "id": "b45d5b7b",
   "metadata": {},
   "source": [
    "# Preprocessing of adata objects"
   ]
  },
  {
   "cell_type": "code",
   "execution_count": 1,
   "id": "41ae15d0",
   "metadata": {},
   "outputs": [],
   "source": [
    "%config InlineBackend.figure_format = 'retina'"
   ]
  },
  {
   "cell_type": "code",
   "execution_count": 2,
   "id": "c57929ab",
   "metadata": {},
   "outputs": [],
   "source": [
    "import h5py\n",
    "import numpy as np\n",
    "import scanpy as sc\n",
    "\n",
    "import matplotlib.pyplot as plt\n",
    "%matplotlib inline\n",
    "import seaborn as sns\n",
    "\n",
    "from osn.nmf import apply_nmf\n",
    "from osn.olfr import olfr\n",
    "from osn.preprocess import get_data_folders"
   ]
  },
  {
   "cell_type": "code",
   "execution_count": 3,
   "id": "6b0066e8",
   "metadata": {},
   "outputs": [],
   "source": [
    "sns.set_context(\"talk\")\n",
    "sns.set(font_scale=1.5, style=\"ticks\", palette=\"tab10\")"
   ]
  },
  {
   "cell_type": "markdown",
   "id": "d7bedaaf",
   "metadata": {},
   "source": [
    "# load home-cage adata "
   ]
  },
  {
   "cell_type": "code",
   "execution_count": 4,
   "id": "1e484155",
   "metadata": {},
   "outputs": [
    {
     "name": "stdout",
     "output_type": "stream",
     "text": [
      "AnnData object with n_obs × n_vars = 38345 × 30681\n",
      "    obs: 'top_Olfr', 'source', 'orig_ident', 'ES_score', 'UMAP_1', 'UMAP_2', 'round2', 'n_genes_by_counts', 'log1p_n_genes_by_counts', 'total_counts', 'log1p_total_counts', 'pct_counts_in_top_10_genes', 'pct_counts_in_top_50_genes', 'pct_counts_in_top_100_genes', 'total_counts_mito', 'log1p_total_counts_mito', 'pct_counts_mito', 'total_counts_ribo', 'log1p_total_counts_ribo', 'pct_counts_ribo', 'total_counts_high_expr', 'log1p_total_counts_high_expr', 'pct_counts_high_expr', 'good_total_counts', 'OR_counts', 'OR_counts_norm'\n",
      "    var: 'mito', 'ribo', 'high_expr', 'n_cells_by_counts', 'mean_counts', 'log1p_mean_counts', 'pct_dropout_by_counts', 'total_counts', 'log1p_total_counts'\n",
      "    obsm: 'X_nmf', 'X_umap'\n"
     ]
    }
   ],
   "source": [
    "data_fold = get_data_folders()\n",
    "ad_fn = data_fold.processed / \"home_cage_norm.h5ad\"\n",
    "adata = sc.read(ad_fn)\n",
    "print(adata)"
   ]
  },
  {
   "cell_type": "markdown",
   "id": "c24e94c4",
   "metadata": {},
   "source": [
    "# Look at the OR expressed in each OSN\n",
    "We used the OR genes that were annotated to be functional (i.e. not pseudogenes). These were the genes with GO term \"olfactory receptor activity\" (GO:0004984); the TAAR family of receptors was also included (GO:0001594, GO:1990081).\n",
    "\n",
    "The function `olfr.get_OR_info(adata)` looks for which ORs are singly-expressed in each cell (based on the raw UMI counts)."
   ]
  },
  {
   "cell_type": "code",
   "execution_count": 5,
   "id": "87b23d59",
   "metadata": {},
   "outputs": [
    {
     "data": {
      "text/html": [
       "<div>\n",
       "<style scoped>\n",
       "    .dataframe tbody tr th:only-of-type {\n",
       "        vertical-align: middle;\n",
       "    }\n",
       "\n",
       "    .dataframe tbody tr th {\n",
       "        vertical-align: top;\n",
       "    }\n",
       "\n",
       "    .dataframe thead th {\n",
       "        text-align: right;\n",
       "    }\n",
       "</style>\n",
       "<table border=\"1\" class=\"dataframe\">\n",
       "  <thead>\n",
       "    <tr style=\"text-align: right;\">\n",
       "      <th></th>\n",
       "      <th>ensembl_gene_id</th>\n",
       "      <th>mgi_symbol</th>\n",
       "      <th>mgi_description</th>\n",
       "      <th>chromosome_name</th>\n",
       "      <th>start_position</th>\n",
       "      <th>end_position</th>\n",
       "      <th>TSS_diff</th>\n",
       "      <th>cluster_3Mb_bychr</th>\n",
       "      <th>OR_class</th>\n",
       "    </tr>\n",
       "    <tr>\n",
       "      <th>external_gene_name</th>\n",
       "      <th></th>\n",
       "      <th></th>\n",
       "      <th></th>\n",
       "      <th></th>\n",
       "      <th></th>\n",
       "      <th></th>\n",
       "      <th></th>\n",
       "      <th></th>\n",
       "      <th></th>\n",
       "    </tr>\n",
       "  </thead>\n",
       "  <tbody>\n",
       "    <tr>\n",
       "      <th>Olfr1416</th>\n",
       "      <td>ENSMUSG00000067064</td>\n",
       "      <td>Olfr1416</td>\n",
       "      <td>olfactory receptor 1416</td>\n",
       "      <td>1</td>\n",
       "      <td>92475925</td>\n",
       "      <td>92485113</td>\n",
       "      <td>0</td>\n",
       "      <td>01-1</td>\n",
       "      <td>class2</td>\n",
       "    </tr>\n",
       "    <tr>\n",
       "      <th>Olfr1415</th>\n",
       "      <td>ENSMUSG00000057464</td>\n",
       "      <td>Olfr1415</td>\n",
       "      <td>olfactory receptor 1415</td>\n",
       "      <td>1</td>\n",
       "      <td>92489101</td>\n",
       "      <td>92496101</td>\n",
       "      <td>13176</td>\n",
       "      <td>01-1</td>\n",
       "      <td>class2</td>\n",
       "    </tr>\n",
       "    <tr>\n",
       "      <th>Olfr1414</th>\n",
       "      <td>ENSMUSG00000042849</td>\n",
       "      <td>Olfr1414</td>\n",
       "      <td>olfactory receptor 1414</td>\n",
       "      <td>1</td>\n",
       "      <td>92506366</td>\n",
       "      <td>92518661</td>\n",
       "      <td>17265</td>\n",
       "      <td>01-1</td>\n",
       "      <td>class2</td>\n",
       "    </tr>\n",
       "    <tr>\n",
       "      <th>Olfr1413</th>\n",
       "      <td>ENSMUSG00000058904</td>\n",
       "      <td>Olfr1413</td>\n",
       "      <td>olfactory receptor 1413</td>\n",
       "      <td>1</td>\n",
       "      <td>92571322</td>\n",
       "      <td>92574397</td>\n",
       "      <td>64956</td>\n",
       "      <td>01-1</td>\n",
       "      <td>class2</td>\n",
       "    </tr>\n",
       "    <tr>\n",
       "      <th>Olfr1412</th>\n",
       "      <td>ENSMUSG00000046300</td>\n",
       "      <td>Olfr1412</td>\n",
       "      <td>olfactory receptor 1412</td>\n",
       "      <td>1</td>\n",
       "      <td>92585779</td>\n",
       "      <td>92591375</td>\n",
       "      <td>14457</td>\n",
       "      <td>01-1</td>\n",
       "      <td>class2</td>\n",
       "    </tr>\n",
       "  </tbody>\n",
       "</table>\n",
       "</div>"
      ],
      "text/plain": [
       "                       ensembl_gene_id mgi_symbol          mgi_description  \\\n",
       "external_gene_name                                                           \n",
       "Olfr1416            ENSMUSG00000067064   Olfr1416  olfactory receptor 1416   \n",
       "Olfr1415            ENSMUSG00000057464   Olfr1415  olfactory receptor 1415   \n",
       "Olfr1414            ENSMUSG00000042849   Olfr1414  olfactory receptor 1414   \n",
       "Olfr1413            ENSMUSG00000058904   Olfr1413  olfactory receptor 1413   \n",
       "Olfr1412            ENSMUSG00000046300   Olfr1412  olfactory receptor 1412   \n",
       "\n",
       "                   chromosome_name  start_position  end_position  TSS_diff  \\\n",
       "external_gene_name                                                           \n",
       "Olfr1416                         1        92475925      92485113         0   \n",
       "Olfr1415                         1        92489101      92496101     13176   \n",
       "Olfr1414                         1        92506366      92518661     17265   \n",
       "Olfr1413                         1        92571322      92574397     64956   \n",
       "Olfr1412                         1        92585779      92591375     14457   \n",
       "\n",
       "                   cluster_3Mb_bychr OR_class  \n",
       "external_gene_name                             \n",
       "Olfr1416                        01-1   class2  \n",
       "Olfr1415                        01-1   class2  \n",
       "Olfr1414                        01-1   class2  \n",
       "Olfr1413                        01-1   class2  \n",
       "Olfr1412                        01-1   class2  "
      ]
     },
     "metadata": {},
     "output_type": "display_data"
    }
   ],
   "source": [
    "func_OR = olfr.load_func_OR()\n",
    "display(func_OR.head())"
   ]
  },
  {
   "cell_type": "code",
   "execution_count": 6,
   "id": "77471192",
   "metadata": {},
   "outputs": [
    {
     "data": {
      "text/html": [
       "<div>\n",
       "<style scoped>\n",
       "    .dataframe tbody tr th:only-of-type {\n",
       "        vertical-align: middle;\n",
       "    }\n",
       "\n",
       "    .dataframe tbody tr th {\n",
       "        vertical-align: top;\n",
       "    }\n",
       "\n",
       "    .dataframe thead th {\n",
       "        text-align: right;\n",
       "    }\n",
       "</style>\n",
       "<table border=\"1\" class=\"dataframe\">\n",
       "  <thead>\n",
       "    <tr style=\"text-align: right;\">\n",
       "      <th></th>\n",
       "      <th>top_Olfr</th>\n",
       "      <th>orig_ident</th>\n",
       "      <th>source</th>\n",
       "      <th>OR_counts</th>\n",
       "      <th>OR_counts_norm</th>\n",
       "      <th>OR_class</th>\n",
       "      <th>cluster_3Mb_bychr</th>\n",
       "      <th>Dorsal</th>\n",
       "      <th>Ventral</th>\n",
       "      <th>Anterior</th>\n",
       "      <th>Posterior</th>\n",
       "      <th>Cd36</th>\n",
       "      <th>High</th>\n",
       "      <th>Low</th>\n",
       "      <th>ES_score</th>\n",
       "    </tr>\n",
       "  </thead>\n",
       "  <tbody>\n",
       "    <tr>\n",
       "      <th>baseline-1_AAACCCAGTAGTGTGG</th>\n",
       "      <td>Olfr228</td>\n",
       "      <td>baseline-1</td>\n",
       "      <td>baseline-cage</td>\n",
       "      <td>100.0</td>\n",
       "      <td>104.079933</td>\n",
       "      <td>class2</td>\n",
       "      <td>02-2</td>\n",
       "      <td>61.819379</td>\n",
       "      <td>33.755248</td>\n",
       "      <td>0.000000</td>\n",
       "      <td>60.767606</td>\n",
       "      <td>0.000000</td>\n",
       "      <td>0.000000</td>\n",
       "      <td>113.739399</td>\n",
       "      <td>-113.739399</td>\n",
       "    </tr>\n",
       "    <tr>\n",
       "      <th>baseline-1_AAACCCATCTAAGGAA</th>\n",
       "      <td>Olfr111</td>\n",
       "      <td>baseline-1</td>\n",
       "      <td>baseline-cage</td>\n",
       "      <td>26.0</td>\n",
       "      <td>22.606731</td>\n",
       "      <td>class2</td>\n",
       "      <td>17-2</td>\n",
       "      <td>135.374186</td>\n",
       "      <td>0.000000</td>\n",
       "      <td>0.000000</td>\n",
       "      <td>106.774866</td>\n",
       "      <td>20.374480</td>\n",
       "      <td>0.000000</td>\n",
       "      <td>308.587823</td>\n",
       "      <td>-308.587823</td>\n",
       "    </tr>\n",
       "    <tr>\n",
       "      <th>baseline-1_AAACGAAAGCTGAGTG</th>\n",
       "      <td>Olfr984</td>\n",
       "      <td>baseline-1</td>\n",
       "      <td>baseline-cage</td>\n",
       "      <td>26.0</td>\n",
       "      <td>29.731274</td>\n",
       "      <td>class2</td>\n",
       "      <td>09-2</td>\n",
       "      <td>10.134398</td>\n",
       "      <td>159.579356</td>\n",
       "      <td>8.923343</td>\n",
       "      <td>8.910267</td>\n",
       "      <td>0.000000</td>\n",
       "      <td>64.808465</td>\n",
       "      <td>43.665520</td>\n",
       "      <td>21.142945</td>\n",
       "    </tr>\n",
       "    <tr>\n",
       "      <th>baseline-1_AAACGAACAAGAGGTC</th>\n",
       "      <td>Olfr786</td>\n",
       "      <td>baseline-1</td>\n",
       "      <td>baseline-cage</td>\n",
       "      <td>25.0</td>\n",
       "      <td>25.204155</td>\n",
       "      <td>class2</td>\n",
       "      <td>10-3</td>\n",
       "      <td>0.000000</td>\n",
       "      <td>27.315977</td>\n",
       "      <td>131.728949</td>\n",
       "      <td>9.418199</td>\n",
       "      <td>343.050271</td>\n",
       "      <td>63.964069</td>\n",
       "      <td>0.000000</td>\n",
       "      <td>63.964069</td>\n",
       "    </tr>\n",
       "    <tr>\n",
       "      <th>baseline-1_AAACGAAGTAGAATAC</th>\n",
       "      <td>Olfr1330</td>\n",
       "      <td>baseline-1</td>\n",
       "      <td>baseline-cage</td>\n",
       "      <td>87.0</td>\n",
       "      <td>74.213089</td>\n",
       "      <td>class2</td>\n",
       "      <td>04-4</td>\n",
       "      <td>17.769529</td>\n",
       "      <td>0.000000</td>\n",
       "      <td>220.656676</td>\n",
       "      <td>40.515654</td>\n",
       "      <td>79.753526</td>\n",
       "      <td>284.527477</td>\n",
       "      <td>0.000000</td>\n",
       "      <td>284.527477</td>\n",
       "    </tr>\n",
       "  </tbody>\n",
       "</table>\n",
       "</div>"
      ],
      "text/plain": [
       "                             top_Olfr  orig_ident         source  OR_counts  \\\n",
       "baseline-1_AAACCCAGTAGTGTGG   Olfr228  baseline-1  baseline-cage      100.0   \n",
       "baseline-1_AAACCCATCTAAGGAA   Olfr111  baseline-1  baseline-cage       26.0   \n",
       "baseline-1_AAACGAAAGCTGAGTG   Olfr984  baseline-1  baseline-cage       26.0   \n",
       "baseline-1_AAACGAACAAGAGGTC   Olfr786  baseline-1  baseline-cage       25.0   \n",
       "baseline-1_AAACGAAGTAGAATAC  Olfr1330  baseline-1  baseline-cage       87.0   \n",
       "\n",
       "                             OR_counts_norm OR_class cluster_3Mb_bychr  \\\n",
       "baseline-1_AAACCCAGTAGTGTGG      104.079933   class2              02-2   \n",
       "baseline-1_AAACCCATCTAAGGAA       22.606731   class2              17-2   \n",
       "baseline-1_AAACGAAAGCTGAGTG       29.731274   class2              09-2   \n",
       "baseline-1_AAACGAACAAGAGGTC       25.204155   class2              10-3   \n",
       "baseline-1_AAACGAAGTAGAATAC       74.213089   class2              04-4   \n",
       "\n",
       "                                 Dorsal     Ventral    Anterior   Posterior  \\\n",
       "baseline-1_AAACCCAGTAGTGTGG   61.819379   33.755248    0.000000   60.767606   \n",
       "baseline-1_AAACCCATCTAAGGAA  135.374186    0.000000    0.000000  106.774866   \n",
       "baseline-1_AAACGAAAGCTGAGTG   10.134398  159.579356    8.923343    8.910267   \n",
       "baseline-1_AAACGAACAAGAGGTC    0.000000   27.315977  131.728949    9.418199   \n",
       "baseline-1_AAACGAAGTAGAATAC   17.769529    0.000000  220.656676   40.515654   \n",
       "\n",
       "                                   Cd36        High         Low    ES_score  \n",
       "baseline-1_AAACCCAGTAGTGTGG    0.000000    0.000000  113.739399 -113.739399  \n",
       "baseline-1_AAACCCATCTAAGGAA   20.374480    0.000000  308.587823 -308.587823  \n",
       "baseline-1_AAACGAAAGCTGAGTG    0.000000   64.808465   43.665520   21.142945  \n",
       "baseline-1_AAACGAACAAGAGGTC  343.050271   63.964069    0.000000   63.964069  \n",
       "baseline-1_AAACGAAGTAGAATAC   79.753526  284.527477    0.000000  284.527477  "
      ]
     },
     "metadata": {},
     "output_type": "display_data"
    }
   ],
   "source": [
    "# find which cells express Olfrs\n",
    "df_OR, has_OR = olfr.get_OR_info(adata)\n",
    "display(df_OR.head())\n",
    "# confirm that extracted ORs matches those saved in metadata\n",
    "assert (df_OR.top_Olfr == adata.obs.top_Olfr).all()"
   ]
  },
  {
   "cell_type": "code",
   "execution_count": 7,
   "id": "0b318a24",
   "metadata": {},
   "outputs": [
    {
     "data": {
      "image/png": "[encoded data removed]",
      "text/plain": [
       "<Figure size 360x360 with 1 Axes>"
      ]
     },
     "metadata": {
      "image/png": {
       "height": 331,
       "width": 352
      }
     },
     "output_type": "display_data"
    }
   ],
   "source": [
    "y = df_OR.top_Olfr.value_counts().values\n",
    "y = y / y.sum() * 100\n",
    "x = np.arange(len(y))\n",
    "\n",
    "fig, ax = plt.subplots(figsize=(5,5))\n",
    "ax.plot(x, np.cumsum(y), lw=2)\n",
    "ax.set_xlabel(\"ORs (sorted by frequency)\")\n",
    "ax.set_ylabel(\"Cumulative % of all OSNs\")\n",
    "sns.despine()"
   ]
  },
  {
   "cell_type": "markdown",
   "id": "c6cd567e",
   "metadata": {},
   "source": [
    "# apply cNMF \n",
    "* using fitting gene loadings (see [Table S2](../data/tables/GSE173947_Table_S2_nmf_loadings.csv)) for a set of 1350 highly-variable genes to get NMF usages for each cNMF factor for each cell"
   ]
  },
  {
   "cell_type": "code",
   "execution_count": 8,
   "id": "0aad0ce8",
   "metadata": {},
   "outputs": [
    {
     "name": "stdout",
     "output_type": "stream",
     "text": [
      "Already found usages in `obsm/X_nmf` for ChronicOccl_norm.h5ad\n",
      "Already found usages in `obsm/X_nmf` for ActSeq_norm.h5ad\n",
      "Already found usages in `obsm/X_nmf` for ActSeq_conc_analog_norm.h5ad\n",
      "Already found usages in `obsm/X_nmf` for env_switch_norm.h5ad\n",
      "Already found usages in `obsm/X_nmf` for home_cage_norm.h5ad\n"
     ]
    }
   ],
   "source": [
    "h5_files = list(data_fold.processed.rglob(\"*_norm.h5ad\"))\n",
    "for fn in h5_files:\n",
    "    with h5py.File(fn, \"r\") as f:\n",
    "        refit = 'obsm/X_nmf' not in f\n",
    "    if refit:\n",
    "        print(f\"Getting NMF usages for {fn.name}\")\n",
    "        this_adata = sc.read(fn)\n",
    "        df_nmf = apply_nmf(this_adata)\n",
    "        this_adata.obsm['X_nmf'] = df_nmf\n",
    "        this_adata.write_h5ad(fn)\n",
    "        print(f\"Updated {fn.name} file with usages\")\n",
    "    else:\n",
    "        print(f\"Already found usages in `obsm/X_nmf` for {fn.name}\")"
   ]
  }
 ],
 "metadata": {
  "kernelspec": {
   "display_name": "Python 3",
   "language": "python",
   "name": "python3"
  },
  "language_info": {
   "codemirror_mode": {
    "name": "ipython",
    "version": 3
   },
   "file_extension": ".py",
   "mimetype": "text/x-python",
   "name": "python",
   "nbconvert_exporter": "python",
   "pygments_lexer": "ipython3",
   "version": "3.8.12"
  },
  "toc": {
   "base_numbering": 1,
   "nav_menu": {},
   "number_sections": true,
   "sideBar": true,
   "skip_h1_title": false,
   "title_cell": "Table of Contents",
   "title_sidebar": "Contents",
   "toc_cell": false,
   "toc_position": {},
   "toc_section_display": true,
   "toc_window_display": true
  }
 },
 "nbformat": 4,
 "nbformat_minor": 5
}
